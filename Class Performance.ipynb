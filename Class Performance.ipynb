{
 "cells": [
  {
   "cell_type": "code",
   "execution_count": 1,
   "id": "5449f822",
   "metadata": {},
   "outputs": [],
   "source": [
    "# You are given a table containing assignment scores of students in a class. \n",
    "#Write a query that identifies the largest difference in total score  of all assignments.\n",
    "#Output just the difference in total score (sum of all 3 assignments) between a student with the highest score and a student with the lowest score."
   ]
  },
  {
   "cell_type": "code",
   "execution_count": 3,
   "id": "4bb2dd3a",
   "metadata": {},
   "outputs": [],
   "source": [
    "import pandas as pd\n",
    "import numpy as np\n"
   ]
  },
  {
   "cell_type": "code",
   "execution_count": 4,
   "id": "64254ee1",
   "metadata": {},
   "outputs": [],
   "source": [
    "box_scores = pd.read_csv('box_scores.csv')"
   ]
  },
  {
   "cell_type": "code",
   "execution_count": 9,
   "id": "0bcce7ec",
   "metadata": {},
   "outputs": [
    {
     "data": {
      "text/plain": [
       "0    268\n",
       "1    245\n",
       "2    252\n",
       "3    185\n",
       "4    258\n",
       "5    190\n",
       "6    217\n",
       "7    244\n",
       "8    279\n",
       "9    222\n",
       "Name: total_score, dtype: int64"
      ]
     },
     "execution_count": 9,
     "metadata": {},
     "output_type": "execute_result"
    }
   ],
   "source": [
    "box_scores['total_score'] = box_scores['assignment1']+box_scores['assignment2']+box_scores['assignment3']\n",
    "box_scores['total_score']"
   ]
  },
  {
   "cell_type": "code",
   "execution_count": 10,
   "id": "698d7425",
   "metadata": {},
   "outputs": [
    {
     "data": {
      "text/plain": [
       "94"
      ]
     },
     "execution_count": 10,
     "metadata": {},
     "output_type": "execute_result"
    }
   ],
   "source": [
    "box_scores['total_score'].max() - box_scores['total_score'].min()"
   ]
  },
  {
   "cell_type": "code",
   "execution_count": null,
   "id": "f6bfef97",
   "metadata": {},
   "outputs": [],
   "source": []
  }
 ],
 "metadata": {
  "kernelspec": {
   "display_name": "Python 3 (ipykernel)",
   "language": "python",
   "name": "python3"
  },
  "language_info": {
   "codemirror_mode": {
    "name": "ipython",
    "version": 3
   },
   "file_extension": ".py",
   "mimetype": "text/x-python",
   "name": "python",
   "nbconvert_exporter": "python",
   "pygments_lexer": "ipython3",
   "version": "3.11.2"
  }
 },
 "nbformat": 4,
 "nbformat_minor": 5
}
